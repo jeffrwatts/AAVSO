{
 "cells": [
  {
   "cell_type": "code",
   "execution_count": 1,
   "id": "83b083b3",
   "metadata": {},
   "outputs": [],
   "source": [
    "from datetime import datetime, timedelta\n",
    "import pytz"
   ]
  },
  {
   "cell_type": "code",
   "execution_count": 2,
   "id": "bdf9b6af",
   "metadata": {},
   "outputs": [],
   "source": [
    "# Function to convert UTC time to HST and calculate the observing duration\n",
    "def calculate_observing_time(utc_day, utc_month, utc_hour_decimal, duration_hours):\n",
    "    # Define UTC and HST timezones\n",
    "    utc_zone = pytz.timezone('UTC')\n",
    "    hst_zone = pytz.timezone('Pacific/Honolulu')\n",
    "    \n",
    "    # Convert decimal hour to hours and minutes\n",
    "    utc_hour = int(utc_hour_decimal)\n",
    "    utc_minute = int((utc_hour_decimal - utc_hour) * 60)\n",
    "    \n",
    "    # Create datetime object for the UTC time\n",
    "    utc_time = datetime(datetime.now().year, utc_month, utc_day, utc_hour, utc_minute, tzinfo=utc_zone)\n",
    "    \n",
    "    # Convert to HST\n",
    "    hst_time = utc_time.astimezone(hst_zone)\n",
    "    \n",
    "    # Calculate start and end times of the observing event in HST\n",
    "    half_duration = timedelta(hours=duration_hours / 2)\n",
    "    start_time_hst = hst_time - half_duration\n",
    "    end_time_hst = hst_time + half_duration\n",
    "    \n",
    "    return start_time_hst, end_time_hst"
   ]
  },
  {
   "cell_type": "code",
   "execution_count": 3,
   "id": "99b493a1",
   "metadata": {},
   "outputs": [
    {
     "name": "stdout",
     "output_type": "stream",
     "text": [
      "Observing event start time (HST): 2024-07-14 17:00:00\n",
      "Observing event end time (HST): 2024-07-14 20:00:00\n"
     ]
    }
   ],
   "source": [
    "# Example usage\n",
    "utc_day = 15  # Day of the month\n",
    "utc_month = 7  # Month\n",
    "utc_hour_decimal = 4.5  # UTC hour in decimal\n",
    "duration_hours = 3  # Duration of the event in hours\n",
    "\n",
    "start_time_hst, end_time_hst = calculate_observing_time(utc_day, utc_month, utc_hour_decimal, duration_hours)\n",
    "\n",
    "print(\"Observing event start time (HST):\", start_time_hst.strftime('%Y-%m-%d %H:%M:%S'))\n",
    "print(\"Observing event end time (HST):\", end_time_hst.strftime('%Y-%m-%d %H:%M:%S'))\n"
   ]
  }
 ],
 "metadata": {
  "kernelspec": {
   "display_name": "Python 3 (ipykernel)",
   "language": "python",
   "name": "python3"
  },
  "language_info": {
   "codemirror_mode": {
    "name": "ipython",
    "version": 3
   },
   "file_extension": ".py",
   "mimetype": "text/x-python",
   "name": "python",
   "nbconvert_exporter": "python",
   "pygments_lexer": "ipython3",
   "version": "3.10.13"
  }
 },
 "nbformat": 4,
 "nbformat_minor": 5
}
